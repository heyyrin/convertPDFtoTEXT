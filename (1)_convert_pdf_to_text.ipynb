{
 "cells": [
  {
   "cell_type": "markdown",
   "metadata": {},
   "source": [
    "# PDF 에서 TEXT 추출 \n",
    "## - tika 라이브러리 사용\n",
    "https://pypi.org/project/tika/\n",
    "\n",
    "설치\n",
    "pip install tika"
   ]
  },
  {
   "cell_type": "code",
   "execution_count": 8,
   "metadata": {},
   "outputs": [
    {
     "name": "stdout",
     "output_type": "stream",
     "text": [
      "devbox20\n"
     ]
    }
   ],
   "source": [
    "import socket\n",
    "print(socket.gethostname())\n",
    "hostname = socket.gethostname()"
   ]
  },
  {
   "cell_type": "code",
   "execution_count": 7,
   "metadata": {},
   "outputs": [
    {
     "name": "stdout",
     "output_type": "stream",
     "text": [
      "/home/hyerin/work/repos/10_PDF_Extraction\r\n"
     ]
    }
   ],
   "source": [
    "!pwd"
   ]
  },
  {
   "cell_type": "code",
   "execution_count": null,
   "metadata": {},
   "outputs": [],
   "source": [
    "from tika import parser\n",
    "import re\n",
    "import os"
   ]
  },
  {
   "cell_type": "markdown",
   "metadata": {},
   "source": [
    "### 파일 이름 설정\n",
    "    최종적으로 변환되는 파일 -> file_name\n",
    "   "
   ]
  },
  {
   "cell_type": "code",
   "execution_count": null,
   "metadata": {},
   "outputs": [],
   "source": [
    "file_1 = 'CNN_01.pdf'\n",
    "file_2 = '08852123.pdf'\n",
    "file_3 = '2019_uda.pdf'\n",
    "\n",
    "file_name = file_2"
   ]
  },
  {
   "cell_type": "code",
   "execution_count": 9,
   "metadata": {},
   "outputs": [],
   "source": [
    "# running: java -jar tika-server1.18.jar before executing code below. \n",
    "# parsedPDF = parser.from_file(file_name)\n",
    "# fulltext = parsedPDF['content']\n",
    "# metadata_dict = parsedPDF['metadata']\n",
    "# title = metadata_dict['title']\n",
    "# author = metadata_dict['Author'] # capturing all the names from lets say 15 pages. Just want it to capture from first page \n",
    "# pages = metadata_dict['xmpTPg:NPages']"
   ]
  },
  {
   "cell_type": "code",
   "execution_count": null,
   "metadata": {},
   "outputs": [],
   "source": []
  },
  {
   "cell_type": "code",
   "execution_count": 10,
   "metadata": {},
   "outputs": [],
   "source": [
    "def extract_pages(filename):\n",
    "    raw_xml = parser.from_file(filename, xmlContent=True)\n",
    "    body = raw_xml['content'].split('<body>')[1].split('</body>')[0]\n",
    "    \n",
    "    body = body.replace('- <\\p>\\n <p>', '-\\n')\n",
    "    body = body.replace('-\\n', '')#.replace('\\n', \" \")#.replace(\"<p>\", \"\\n\").replace(\"</p>\", \"\\n\")#.replace(\"</p> <p>\", \"\\n \\n\")\n",
    "    body = body.replace('\\n', ' ')\n",
    "    body = body.replace('</p>', '</p>\\n')\n",
    "\n",
    "    # 문장 사이에 연결되지 않는 공백 제거\n",
    "    regex_10 = re.compile('\\w\\s*[\\<][\\/][p][\\>]\\s+[\\<][p][\\>]\\s*[0-9(a-z]') \n",
    "    what = regex_10.findall(body)\n",
    "    for index in range(len(what)):\n",
    "        body = body.replace(what[index], what[index][0]+\" \"+what[index][len(what[index])-1])\n",
    "\n",
    "    # 특수문자 제거\n",
    "    regex_11 = re.compile('[\\<][p][\\>][(\\d+)(...)(...)(. . .)(&lt;)(&gt;)±Π•−µπλ∈Π∂βρ〈〉∑(⊗)⊗={×ηα|+o·θ∗].+[\\<][\\/][p][\\>]')\n",
    "    what = regex_11.findall(body)\n",
    "    for index in range(len(what)):\n",
    "        body = body.replace(what[index], '')\n",
    "    \n",
    "    # 문장이 아닌 구문을 제외\n",
    "    regex_12 = re.compile('[\\<][p][\\>].*[\\/][p][\\>]')\n",
    "    what = regex_12.findall(body)\n",
    "    regex_12_2 = re.compile('\\w\\w[\\.]')\n",
    "    regex_12_3 = re.compile('\\w\\w[\\:]')\n",
    "    for index in range(len(what)):\n",
    "        # .으로 끝나는 문장 찾기\n",
    "        find_2 = regex_12_2.findall(what[index])\n",
    "        if len(find_2) == 0:  # .으로 끝나는 문장이 없는 경우 삭제\n",
    "            find_3 = regex_12_3.findall(what[index]) \n",
    "            if len(find_3) == 0:  # .으로 끝나지는 않지만 : 으로 끝나는 문장 찾기\n",
    "                body = body.replace(what[index], \"\")\n",
    "    \n",
    "    # 공백라인 제거\n",
    "    regex_13 = re.compile('[\\>]\\s+[\\<][p]') \n",
    "    what = regex_13.findall(body)\n",
    "    for index in range(len(what)):\n",
    "        body = body.replace(what[index], '>\\n<p' )               \n",
    "\n",
    "    body = body.replace(\"</p>\", '').replace(\"<p>\", '').replace(\"<p />\", '')\n",
    "    \n",
    "    # html 태그 제거 \n",
    "    regex_14 = re.compile('[\\<].*[\\>].*[\\<][\\/].*[\\>]')  #re.compile('[\\<][d][i][v].*[d][i][v][\\>]')\n",
    "    what = regex_14.findall(body)\n",
    "    for index in range(len(what)):\n",
    "        body = body.replace(what[index], '\\n' )\n",
    "    \n",
    "    # 제거 되지 않은 html 부분 한번 더 제거\n",
    "    what = regex_14.findall(body)\n",
    "    for index in range(len(what)):\n",
    "        print(what[index])\n",
    "        body = body.replace(what[index], '\\n' )\n",
    "        \n",
    "    body = body.replace(\"</div>\", '')\n",
    "        \n",
    "    text_pages = body.split(\"\"\"<div class=\"page\">\"\"\")[1:]\n",
    "\n",
    "    return text_pages"
   ]
  },
  {
   "cell_type": "code",
   "execution_count": null,
   "metadata": {},
   "outputs": [],
   "source": []
  },
  {
   "cell_type": "code",
   "execution_count": 11,
   "metadata": {},
   "outputs": [],
   "source": [
    "separated_pages = extract_pages(file_name)\n",
    "# print(separated_pages[0])"
   ]
  },
  {
   "cell_type": "markdown",
   "metadata": {},
   "source": [
    "분리된 페이지 수 확인"
   ]
  },
  {
   "cell_type": "code",
   "execution_count": 14,
   "metadata": {
    "scrolled": true
   },
   "outputs": [
    {
     "name": "stdout",
     "output_type": "stream",
     "text": [
      "8\n"
     ]
    }
   ],
   "source": [
    "print(len(separated_pages))"
   ]
  },
  {
   "cell_type": "markdown",
   "metadata": {},
   "source": [
    "'현재디렉토리/PDF이름/' 디렉토리에 페이지 단위로 txt 파일 생성"
   ]
  },
  {
   "cell_type": "code",
   "execution_count": 13,
   "metadata": {},
   "outputs": [],
   "source": [
    "new_txt_name = file_name.split(\".\")[0]\n",
    "directory = \"./\"+new_txt_name\n",
    "try:\n",
    "    if not os.path.exists(directory):\n",
    "        os.makedirs(directory)\n",
    "except OSError:\n",
    "    print ('Error: Creating directory. ' +  directory)\n",
    "\n",
    "for page_index in range(len(separated_pages)):\n",
    "    f = open(directory+\"/\"+new_txt_name+\"_\"+str(page_index+1)+\".txt\", 'w')\n",
    "    f.write(separated_pages[page_index])\n",
    "    f.close()\n"
   ]
  },
  {
   "cell_type": "code",
   "execution_count": null,
   "metadata": {},
   "outputs": [],
   "source": []
  },
  {
   "cell_type": "code",
   "execution_count": null,
   "metadata": {},
   "outputs": [],
   "source": []
  }
 ],
 "metadata": {
  "kernelspec": {
   "display_name": "Python 3",
   "language": "python",
   "name": "python3"
  },
  "language_info": {
   "codemirror_mode": {
    "name": "ipython",
    "version": 3
   },
   "file_extension": ".py",
   "mimetype": "text/x-python",
   "name": "python",
   "nbconvert_exporter": "python",
   "pygments_lexer": "ipython3",
   "version": "3.6.9"
  }
 },
 "nbformat": 4,
 "nbformat_minor": 4
}
